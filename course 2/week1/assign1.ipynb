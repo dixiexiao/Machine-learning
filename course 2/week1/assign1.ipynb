{
 "cells": [
  {
   "cell_type": "code",
   "execution_count": 1,
   "metadata": {
    "collapsed": true
   },
   "outputs": [],
   "source": [
    "import graphlab"
   ]
  },
  {
   "cell_type": "code",
   "execution_count": 2,
   "metadata": {
    "collapsed": false
   },
   "outputs": [
    {
     "name": "stdout",
     "output_type": "stream",
     "text": [
      "This non-commercial license of GraphLab Create for academic use is assigned to dxiao@bloomu.edu and will expire on April 02, 2020.\n"
     ]
    },
    {
     "name": "stderr",
     "output_type": "stream",
     "text": [
      "[INFO] graphlab.cython.cy_server: GraphLab Create v2.1 started. Logging: C:\\Users\\danqi\\AppData\\Local\\Temp\\graphlab_server_1557848605.log.0\n"
     ]
    },
    {
     "data": {
      "text/html": [
       "<pre>Finished parsing file C:\\Users\\danqi\\OneDrive\\machine learning\\course 2\\week1\\kc_house_data.csv</pre>"
      ],
      "text/plain": [
       "Finished parsing file C:\\Users\\danqi\\OneDrive\\machine learning\\course 2\\week1\\kc_house_data.csv"
      ]
     },
     "metadata": {},
     "output_type": "display_data"
    },
    {
     "data": {
      "text/html": [
       "<pre>Parsing completed. Parsed 100 lines in 0.071808 secs.</pre>"
      ],
      "text/plain": [
       "Parsing completed. Parsed 100 lines in 0.071808 secs."
      ]
     },
     "metadata": {},
     "output_type": "display_data"
    },
    {
     "name": "stdout",
     "output_type": "stream",
     "text": [
      "------------------------------------------------------\n",
      "Inferred types from first 100 line(s) of file as \n",
      "column_type_hints=[long,str,float,long,float,long,long,float,long,long,long,long,long,long,long,long,long,float,float,long,long]\n",
      "If parsing fails due to incorrect types, you can correct\n",
      "the inferred type list above and pass it to read_csv in\n",
      "the column_type_hints argument\n",
      "------------------------------------------------------\n"
     ]
    },
    {
     "data": {
      "text/html": [
       "<pre>Finished parsing file C:\\Users\\danqi\\OneDrive\\machine learning\\course 2\\week1\\kc_house_data.csv</pre>"
      ],
      "text/plain": [
       "Finished parsing file C:\\Users\\danqi\\OneDrive\\machine learning\\course 2\\week1\\kc_house_data.csv"
      ]
     },
     "metadata": {},
     "output_type": "display_data"
    },
    {
     "data": {
      "text/html": [
       "<pre>Parsing completed. Parsed 21613 lines in 0.068815 secs.</pre>"
      ],
      "text/plain": [
       "Parsing completed. Parsed 21613 lines in 0.068815 secs."
      ]
     },
     "metadata": {},
     "output_type": "display_data"
    }
   ],
   "source": [
    "sales_csv = graphlab.SFrame.read_csv('kc_house_data.csv/')"
   ]
  },
  {
   "cell_type": "code",
   "execution_count": 3,
   "metadata": {
    "collapsed": false
   },
   "outputs": [
    {
     "data": {
      "text/html": [
       "<div style=\"max-height:1000px;max-width:1500px;overflow:auto;\"><table frame=\"box\" rules=\"cols\">\n",
       "    <tr>\n",
       "        <th style=\"padding-left: 1em; padding-right: 1em; text-align: center\">id</th>\n",
       "        <th style=\"padding-left: 1em; padding-right: 1em; text-align: center\">date</th>\n",
       "        <th style=\"padding-left: 1em; padding-right: 1em; text-align: center\">price</th>\n",
       "        <th style=\"padding-left: 1em; padding-right: 1em; text-align: center\">bedrooms</th>\n",
       "        <th style=\"padding-left: 1em; padding-right: 1em; text-align: center\">bathrooms</th>\n",
       "        <th style=\"padding-left: 1em; padding-right: 1em; text-align: center\">sqft_living</th>\n",
       "        <th style=\"padding-left: 1em; padding-right: 1em; text-align: center\">sqft_lot</th>\n",
       "        <th style=\"padding-left: 1em; padding-right: 1em; text-align: center\">floors</th>\n",
       "        <th style=\"padding-left: 1em; padding-right: 1em; text-align: center\">waterfront</th>\n",
       "        <th style=\"padding-left: 1em; padding-right: 1em; text-align: center\">view</th>\n",
       "    </tr>\n",
       "    <tr>\n",
       "        <td style=\"padding-left: 1em; padding-right: 1em; text-align: center; vertical-align: top\">7129300520</td>\n",
       "        <td style=\"padding-left: 1em; padding-right: 1em; text-align: center; vertical-align: top\">20141013T000000</td>\n",
       "        <td style=\"padding-left: 1em; padding-right: 1em; text-align: center; vertical-align: top\">221900.0</td>\n",
       "        <td style=\"padding-left: 1em; padding-right: 1em; text-align: center; vertical-align: top\">3</td>\n",
       "        <td style=\"padding-left: 1em; padding-right: 1em; text-align: center; vertical-align: top\">1.0</td>\n",
       "        <td style=\"padding-left: 1em; padding-right: 1em; text-align: center; vertical-align: top\">1180</td>\n",
       "        <td style=\"padding-left: 1em; padding-right: 1em; text-align: center; vertical-align: top\">5650</td>\n",
       "        <td style=\"padding-left: 1em; padding-right: 1em; text-align: center; vertical-align: top\">1.0</td>\n",
       "        <td style=\"padding-left: 1em; padding-right: 1em; text-align: center; vertical-align: top\">0</td>\n",
       "        <td style=\"padding-left: 1em; padding-right: 1em; text-align: center; vertical-align: top\">0</td>\n",
       "    </tr>\n",
       "    <tr>\n",
       "        <td style=\"padding-left: 1em; padding-right: 1em; text-align: center; vertical-align: top\">6414100192</td>\n",
       "        <td style=\"padding-left: 1em; padding-right: 1em; text-align: center; vertical-align: top\">20141209T000000</td>\n",
       "        <td style=\"padding-left: 1em; padding-right: 1em; text-align: center; vertical-align: top\">538000.0</td>\n",
       "        <td style=\"padding-left: 1em; padding-right: 1em; text-align: center; vertical-align: top\">3</td>\n",
       "        <td style=\"padding-left: 1em; padding-right: 1em; text-align: center; vertical-align: top\">2.25</td>\n",
       "        <td style=\"padding-left: 1em; padding-right: 1em; text-align: center; vertical-align: top\">2570</td>\n",
       "        <td style=\"padding-left: 1em; padding-right: 1em; text-align: center; vertical-align: top\">7242</td>\n",
       "        <td style=\"padding-left: 1em; padding-right: 1em; text-align: center; vertical-align: top\">2.0</td>\n",
       "        <td style=\"padding-left: 1em; padding-right: 1em; text-align: center; vertical-align: top\">0</td>\n",
       "        <td style=\"padding-left: 1em; padding-right: 1em; text-align: center; vertical-align: top\">0</td>\n",
       "    </tr>\n",
       "    <tr>\n",
       "        <td style=\"padding-left: 1em; padding-right: 1em; text-align: center; vertical-align: top\">5631500400</td>\n",
       "        <td style=\"padding-left: 1em; padding-right: 1em; text-align: center; vertical-align: top\">20150225T000000</td>\n",
       "        <td style=\"padding-left: 1em; padding-right: 1em; text-align: center; vertical-align: top\">180000.0</td>\n",
       "        <td style=\"padding-left: 1em; padding-right: 1em; text-align: center; vertical-align: top\">2</td>\n",
       "        <td style=\"padding-left: 1em; padding-right: 1em; text-align: center; vertical-align: top\">1.0</td>\n",
       "        <td style=\"padding-left: 1em; padding-right: 1em; text-align: center; vertical-align: top\">770</td>\n",
       "        <td style=\"padding-left: 1em; padding-right: 1em; text-align: center; vertical-align: top\">10000</td>\n",
       "        <td style=\"padding-left: 1em; padding-right: 1em; text-align: center; vertical-align: top\">1.0</td>\n",
       "        <td style=\"padding-left: 1em; padding-right: 1em; text-align: center; vertical-align: top\">0</td>\n",
       "        <td style=\"padding-left: 1em; padding-right: 1em; text-align: center; vertical-align: top\">0</td>\n",
       "    </tr>\n",
       "    <tr>\n",
       "        <td style=\"padding-left: 1em; padding-right: 1em; text-align: center; vertical-align: top\">2487200875</td>\n",
       "        <td style=\"padding-left: 1em; padding-right: 1em; text-align: center; vertical-align: top\">20141209T000000</td>\n",
       "        <td style=\"padding-left: 1em; padding-right: 1em; text-align: center; vertical-align: top\">604000.0</td>\n",
       "        <td style=\"padding-left: 1em; padding-right: 1em; text-align: center; vertical-align: top\">4</td>\n",
       "        <td style=\"padding-left: 1em; padding-right: 1em; text-align: center; vertical-align: top\">3.0</td>\n",
       "        <td style=\"padding-left: 1em; padding-right: 1em; text-align: center; vertical-align: top\">1960</td>\n",
       "        <td style=\"padding-left: 1em; padding-right: 1em; text-align: center; vertical-align: top\">5000</td>\n",
       "        <td style=\"padding-left: 1em; padding-right: 1em; text-align: center; vertical-align: top\">1.0</td>\n",
       "        <td style=\"padding-left: 1em; padding-right: 1em; text-align: center; vertical-align: top\">0</td>\n",
       "        <td style=\"padding-left: 1em; padding-right: 1em; text-align: center; vertical-align: top\">0</td>\n",
       "    </tr>\n",
       "    <tr>\n",
       "        <td style=\"padding-left: 1em; padding-right: 1em; text-align: center; vertical-align: top\">1954400510</td>\n",
       "        <td style=\"padding-left: 1em; padding-right: 1em; text-align: center; vertical-align: top\">20150218T000000</td>\n",
       "        <td style=\"padding-left: 1em; padding-right: 1em; text-align: center; vertical-align: top\">510000.0</td>\n",
       "        <td style=\"padding-left: 1em; padding-right: 1em; text-align: center; vertical-align: top\">3</td>\n",
       "        <td style=\"padding-left: 1em; padding-right: 1em; text-align: center; vertical-align: top\">2.0</td>\n",
       "        <td style=\"padding-left: 1em; padding-right: 1em; text-align: center; vertical-align: top\">1680</td>\n",
       "        <td style=\"padding-left: 1em; padding-right: 1em; text-align: center; vertical-align: top\">8080</td>\n",
       "        <td style=\"padding-left: 1em; padding-right: 1em; text-align: center; vertical-align: top\">1.0</td>\n",
       "        <td style=\"padding-left: 1em; padding-right: 1em; text-align: center; vertical-align: top\">0</td>\n",
       "        <td style=\"padding-left: 1em; padding-right: 1em; text-align: center; vertical-align: top\">0</td>\n",
       "    </tr>\n",
       "    <tr>\n",
       "        <td style=\"padding-left: 1em; padding-right: 1em; text-align: center; vertical-align: top\">7237550310</td>\n",
       "        <td style=\"padding-left: 1em; padding-right: 1em; text-align: center; vertical-align: top\">20140512T000000</td>\n",
       "        <td style=\"padding-left: 1em; padding-right: 1em; text-align: center; vertical-align: top\">1225000.0</td>\n",
       "        <td style=\"padding-left: 1em; padding-right: 1em; text-align: center; vertical-align: top\">4</td>\n",
       "        <td style=\"padding-left: 1em; padding-right: 1em; text-align: center; vertical-align: top\">4.5</td>\n",
       "        <td style=\"padding-left: 1em; padding-right: 1em; text-align: center; vertical-align: top\">5420</td>\n",
       "        <td style=\"padding-left: 1em; padding-right: 1em; text-align: center; vertical-align: top\">101930</td>\n",
       "        <td style=\"padding-left: 1em; padding-right: 1em; text-align: center; vertical-align: top\">1.0</td>\n",
       "        <td style=\"padding-left: 1em; padding-right: 1em; text-align: center; vertical-align: top\">0</td>\n",
       "        <td style=\"padding-left: 1em; padding-right: 1em; text-align: center; vertical-align: top\">0</td>\n",
       "    </tr>\n",
       "    <tr>\n",
       "        <td style=\"padding-left: 1em; padding-right: 1em; text-align: center; vertical-align: top\">1321400060</td>\n",
       "        <td style=\"padding-left: 1em; padding-right: 1em; text-align: center; vertical-align: top\">20140627T000000</td>\n",
       "        <td style=\"padding-left: 1em; padding-right: 1em; text-align: center; vertical-align: top\">257500.0</td>\n",
       "        <td style=\"padding-left: 1em; padding-right: 1em; text-align: center; vertical-align: top\">3</td>\n",
       "        <td style=\"padding-left: 1em; padding-right: 1em; text-align: center; vertical-align: top\">2.25</td>\n",
       "        <td style=\"padding-left: 1em; padding-right: 1em; text-align: center; vertical-align: top\">1715</td>\n",
       "        <td style=\"padding-left: 1em; padding-right: 1em; text-align: center; vertical-align: top\">6819</td>\n",
       "        <td style=\"padding-left: 1em; padding-right: 1em; text-align: center; vertical-align: top\">2.0</td>\n",
       "        <td style=\"padding-left: 1em; padding-right: 1em; text-align: center; vertical-align: top\">0</td>\n",
       "        <td style=\"padding-left: 1em; padding-right: 1em; text-align: center; vertical-align: top\">0</td>\n",
       "    </tr>\n",
       "    <tr>\n",
       "        <td style=\"padding-left: 1em; padding-right: 1em; text-align: center; vertical-align: top\">2008000270</td>\n",
       "        <td style=\"padding-left: 1em; padding-right: 1em; text-align: center; vertical-align: top\">20150115T000000</td>\n",
       "        <td style=\"padding-left: 1em; padding-right: 1em; text-align: center; vertical-align: top\">291850.0</td>\n",
       "        <td style=\"padding-left: 1em; padding-right: 1em; text-align: center; vertical-align: top\">3</td>\n",
       "        <td style=\"padding-left: 1em; padding-right: 1em; text-align: center; vertical-align: top\">1.5</td>\n",
       "        <td style=\"padding-left: 1em; padding-right: 1em; text-align: center; vertical-align: top\">1060</td>\n",
       "        <td style=\"padding-left: 1em; padding-right: 1em; text-align: center; vertical-align: top\">9711</td>\n",
       "        <td style=\"padding-left: 1em; padding-right: 1em; text-align: center; vertical-align: top\">1.0</td>\n",
       "        <td style=\"padding-left: 1em; padding-right: 1em; text-align: center; vertical-align: top\">0</td>\n",
       "        <td style=\"padding-left: 1em; padding-right: 1em; text-align: center; vertical-align: top\">0</td>\n",
       "    </tr>\n",
       "    <tr>\n",
       "        <td style=\"padding-left: 1em; padding-right: 1em; text-align: center; vertical-align: top\">2414600126</td>\n",
       "        <td style=\"padding-left: 1em; padding-right: 1em; text-align: center; vertical-align: top\">20150415T000000</td>\n",
       "        <td style=\"padding-left: 1em; padding-right: 1em; text-align: center; vertical-align: top\">229500.0</td>\n",
       "        <td style=\"padding-left: 1em; padding-right: 1em; text-align: center; vertical-align: top\">3</td>\n",
       "        <td style=\"padding-left: 1em; padding-right: 1em; text-align: center; vertical-align: top\">1.0</td>\n",
       "        <td style=\"padding-left: 1em; padding-right: 1em; text-align: center; vertical-align: top\">1780</td>\n",
       "        <td style=\"padding-left: 1em; padding-right: 1em; text-align: center; vertical-align: top\">7470</td>\n",
       "        <td style=\"padding-left: 1em; padding-right: 1em; text-align: center; vertical-align: top\">1.0</td>\n",
       "        <td style=\"padding-left: 1em; padding-right: 1em; text-align: center; vertical-align: top\">0</td>\n",
       "        <td style=\"padding-left: 1em; padding-right: 1em; text-align: center; vertical-align: top\">0</td>\n",
       "    </tr>\n",
       "    <tr>\n",
       "        <td style=\"padding-left: 1em; padding-right: 1em; text-align: center; vertical-align: top\">3793500160</td>\n",
       "        <td style=\"padding-left: 1em; padding-right: 1em; text-align: center; vertical-align: top\">20150312T000000</td>\n",
       "        <td style=\"padding-left: 1em; padding-right: 1em; text-align: center; vertical-align: top\">323000.0</td>\n",
       "        <td style=\"padding-left: 1em; padding-right: 1em; text-align: center; vertical-align: top\">3</td>\n",
       "        <td style=\"padding-left: 1em; padding-right: 1em; text-align: center; vertical-align: top\">2.5</td>\n",
       "        <td style=\"padding-left: 1em; padding-right: 1em; text-align: center; vertical-align: top\">1890</td>\n",
       "        <td style=\"padding-left: 1em; padding-right: 1em; text-align: center; vertical-align: top\">6560</td>\n",
       "        <td style=\"padding-left: 1em; padding-right: 1em; text-align: center; vertical-align: top\">2.0</td>\n",
       "        <td style=\"padding-left: 1em; padding-right: 1em; text-align: center; vertical-align: top\">0</td>\n",
       "        <td style=\"padding-left: 1em; padding-right: 1em; text-align: center; vertical-align: top\">0</td>\n",
       "    </tr>\n",
       "</table>\n",
       "<table frame=\"box\" rules=\"cols\">\n",
       "    <tr>\n",
       "        <th style=\"padding-left: 1em; padding-right: 1em; text-align: center\">condition</th>\n",
       "        <th style=\"padding-left: 1em; padding-right: 1em; text-align: center\">grade</th>\n",
       "        <th style=\"padding-left: 1em; padding-right: 1em; text-align: center\">sqft_above</th>\n",
       "        <th style=\"padding-left: 1em; padding-right: 1em; text-align: center\">sqft_basement</th>\n",
       "        <th style=\"padding-left: 1em; padding-right: 1em; text-align: center\">yr_built</th>\n",
       "        <th style=\"padding-left: 1em; padding-right: 1em; text-align: center\">yr_renovated</th>\n",
       "        <th style=\"padding-left: 1em; padding-right: 1em; text-align: center\">zipcode</th>\n",
       "        <th style=\"padding-left: 1em; padding-right: 1em; text-align: center\">lat</th>\n",
       "        <th style=\"padding-left: 1em; padding-right: 1em; text-align: center\">long</th>\n",
       "        <th style=\"padding-left: 1em; padding-right: 1em; text-align: center\">sqft_living15</th>\n",
       "    </tr>\n",
       "    <tr>\n",
       "        <td style=\"padding-left: 1em; padding-right: 1em; text-align: center; vertical-align: top\">3</td>\n",
       "        <td style=\"padding-left: 1em; padding-right: 1em; text-align: center; vertical-align: top\">7</td>\n",
       "        <td style=\"padding-left: 1em; padding-right: 1em; text-align: center; vertical-align: top\">1180</td>\n",
       "        <td style=\"padding-left: 1em; padding-right: 1em; text-align: center; vertical-align: top\">0</td>\n",
       "        <td style=\"padding-left: 1em; padding-right: 1em; text-align: center; vertical-align: top\">1955</td>\n",
       "        <td style=\"padding-left: 1em; padding-right: 1em; text-align: center; vertical-align: top\">0</td>\n",
       "        <td style=\"padding-left: 1em; padding-right: 1em; text-align: center; vertical-align: top\">98178</td>\n",
       "        <td style=\"padding-left: 1em; padding-right: 1em; text-align: center; vertical-align: top\">47.5112</td>\n",
       "        <td style=\"padding-left: 1em; padding-right: 1em; text-align: center; vertical-align: top\">-122.257</td>\n",
       "        <td style=\"padding-left: 1em; padding-right: 1em; text-align: center; vertical-align: top\">1340</td>\n",
       "    </tr>\n",
       "    <tr>\n",
       "        <td style=\"padding-left: 1em; padding-right: 1em; text-align: center; vertical-align: top\">3</td>\n",
       "        <td style=\"padding-left: 1em; padding-right: 1em; text-align: center; vertical-align: top\">7</td>\n",
       "        <td style=\"padding-left: 1em; padding-right: 1em; text-align: center; vertical-align: top\">2170</td>\n",
       "        <td style=\"padding-left: 1em; padding-right: 1em; text-align: center; vertical-align: top\">400</td>\n",
       "        <td style=\"padding-left: 1em; padding-right: 1em; text-align: center; vertical-align: top\">1951</td>\n",
       "        <td style=\"padding-left: 1em; padding-right: 1em; text-align: center; vertical-align: top\">1991</td>\n",
       "        <td style=\"padding-left: 1em; padding-right: 1em; text-align: center; vertical-align: top\">98125</td>\n",
       "        <td style=\"padding-left: 1em; padding-right: 1em; text-align: center; vertical-align: top\">47.721</td>\n",
       "        <td style=\"padding-left: 1em; padding-right: 1em; text-align: center; vertical-align: top\">-122.319</td>\n",
       "        <td style=\"padding-left: 1em; padding-right: 1em; text-align: center; vertical-align: top\">1690</td>\n",
       "    </tr>\n",
       "    <tr>\n",
       "        <td style=\"padding-left: 1em; padding-right: 1em; text-align: center; vertical-align: top\">3</td>\n",
       "        <td style=\"padding-left: 1em; padding-right: 1em; text-align: center; vertical-align: top\">6</td>\n",
       "        <td style=\"padding-left: 1em; padding-right: 1em; text-align: center; vertical-align: top\">770</td>\n",
       "        <td style=\"padding-left: 1em; padding-right: 1em; text-align: center; vertical-align: top\">0</td>\n",
       "        <td style=\"padding-left: 1em; padding-right: 1em; text-align: center; vertical-align: top\">1933</td>\n",
       "        <td style=\"padding-left: 1em; padding-right: 1em; text-align: center; vertical-align: top\">0</td>\n",
       "        <td style=\"padding-left: 1em; padding-right: 1em; text-align: center; vertical-align: top\">98028</td>\n",
       "        <td style=\"padding-left: 1em; padding-right: 1em; text-align: center; vertical-align: top\">47.7379</td>\n",
       "        <td style=\"padding-left: 1em; padding-right: 1em; text-align: center; vertical-align: top\">-122.233</td>\n",
       "        <td style=\"padding-left: 1em; padding-right: 1em; text-align: center; vertical-align: top\">2720</td>\n",
       "    </tr>\n",
       "    <tr>\n",
       "        <td style=\"padding-left: 1em; padding-right: 1em; text-align: center; vertical-align: top\">5</td>\n",
       "        <td style=\"padding-left: 1em; padding-right: 1em; text-align: center; vertical-align: top\">7</td>\n",
       "        <td style=\"padding-left: 1em; padding-right: 1em; text-align: center; vertical-align: top\">1050</td>\n",
       "        <td style=\"padding-left: 1em; padding-right: 1em; text-align: center; vertical-align: top\">910</td>\n",
       "        <td style=\"padding-left: 1em; padding-right: 1em; text-align: center; vertical-align: top\">1965</td>\n",
       "        <td style=\"padding-left: 1em; padding-right: 1em; text-align: center; vertical-align: top\">0</td>\n",
       "        <td style=\"padding-left: 1em; padding-right: 1em; text-align: center; vertical-align: top\">98136</td>\n",
       "        <td style=\"padding-left: 1em; padding-right: 1em; text-align: center; vertical-align: top\">47.5208</td>\n",
       "        <td style=\"padding-left: 1em; padding-right: 1em; text-align: center; vertical-align: top\">-122.393</td>\n",
       "        <td style=\"padding-left: 1em; padding-right: 1em; text-align: center; vertical-align: top\">1360</td>\n",
       "    </tr>\n",
       "    <tr>\n",
       "        <td style=\"padding-left: 1em; padding-right: 1em; text-align: center; vertical-align: top\">3</td>\n",
       "        <td style=\"padding-left: 1em; padding-right: 1em; text-align: center; vertical-align: top\">8</td>\n",
       "        <td style=\"padding-left: 1em; padding-right: 1em; text-align: center; vertical-align: top\">1680</td>\n",
       "        <td style=\"padding-left: 1em; padding-right: 1em; text-align: center; vertical-align: top\">0</td>\n",
       "        <td style=\"padding-left: 1em; padding-right: 1em; text-align: center; vertical-align: top\">1987</td>\n",
       "        <td style=\"padding-left: 1em; padding-right: 1em; text-align: center; vertical-align: top\">0</td>\n",
       "        <td style=\"padding-left: 1em; padding-right: 1em; text-align: center; vertical-align: top\">98074</td>\n",
       "        <td style=\"padding-left: 1em; padding-right: 1em; text-align: center; vertical-align: top\">47.6168</td>\n",
       "        <td style=\"padding-left: 1em; padding-right: 1em; text-align: center; vertical-align: top\">-122.045</td>\n",
       "        <td style=\"padding-left: 1em; padding-right: 1em; text-align: center; vertical-align: top\">1800</td>\n",
       "    </tr>\n",
       "    <tr>\n",
       "        <td style=\"padding-left: 1em; padding-right: 1em; text-align: center; vertical-align: top\">3</td>\n",
       "        <td style=\"padding-left: 1em; padding-right: 1em; text-align: center; vertical-align: top\">11</td>\n",
       "        <td style=\"padding-left: 1em; padding-right: 1em; text-align: center; vertical-align: top\">3890</td>\n",
       "        <td style=\"padding-left: 1em; padding-right: 1em; text-align: center; vertical-align: top\">1530</td>\n",
       "        <td style=\"padding-left: 1em; padding-right: 1em; text-align: center; vertical-align: top\">2001</td>\n",
       "        <td style=\"padding-left: 1em; padding-right: 1em; text-align: center; vertical-align: top\">0</td>\n",
       "        <td style=\"padding-left: 1em; padding-right: 1em; text-align: center; vertical-align: top\">98053</td>\n",
       "        <td style=\"padding-left: 1em; padding-right: 1em; text-align: center; vertical-align: top\">47.6561</td>\n",
       "        <td style=\"padding-left: 1em; padding-right: 1em; text-align: center; vertical-align: top\">-122.005</td>\n",
       "        <td style=\"padding-left: 1em; padding-right: 1em; text-align: center; vertical-align: top\">4760</td>\n",
       "    </tr>\n",
       "    <tr>\n",
       "        <td style=\"padding-left: 1em; padding-right: 1em; text-align: center; vertical-align: top\">3</td>\n",
       "        <td style=\"padding-left: 1em; padding-right: 1em; text-align: center; vertical-align: top\">7</td>\n",
       "        <td style=\"padding-left: 1em; padding-right: 1em; text-align: center; vertical-align: top\">1715</td>\n",
       "        <td style=\"padding-left: 1em; padding-right: 1em; text-align: center; vertical-align: top\">0</td>\n",
       "        <td style=\"padding-left: 1em; padding-right: 1em; text-align: center; vertical-align: top\">1995</td>\n",
       "        <td style=\"padding-left: 1em; padding-right: 1em; text-align: center; vertical-align: top\">0</td>\n",
       "        <td style=\"padding-left: 1em; padding-right: 1em; text-align: center; vertical-align: top\">98003</td>\n",
       "        <td style=\"padding-left: 1em; padding-right: 1em; text-align: center; vertical-align: top\">47.3097</td>\n",
       "        <td style=\"padding-left: 1em; padding-right: 1em; text-align: center; vertical-align: top\">-122.327</td>\n",
       "        <td style=\"padding-left: 1em; padding-right: 1em; text-align: center; vertical-align: top\">2238</td>\n",
       "    </tr>\n",
       "    <tr>\n",
       "        <td style=\"padding-left: 1em; padding-right: 1em; text-align: center; vertical-align: top\">3</td>\n",
       "        <td style=\"padding-left: 1em; padding-right: 1em; text-align: center; vertical-align: top\">7</td>\n",
       "        <td style=\"padding-left: 1em; padding-right: 1em; text-align: center; vertical-align: top\">1060</td>\n",
       "        <td style=\"padding-left: 1em; padding-right: 1em; text-align: center; vertical-align: top\">0</td>\n",
       "        <td style=\"padding-left: 1em; padding-right: 1em; text-align: center; vertical-align: top\">1963</td>\n",
       "        <td style=\"padding-left: 1em; padding-right: 1em; text-align: center; vertical-align: top\">0</td>\n",
       "        <td style=\"padding-left: 1em; padding-right: 1em; text-align: center; vertical-align: top\">98198</td>\n",
       "        <td style=\"padding-left: 1em; padding-right: 1em; text-align: center; vertical-align: top\">47.4095</td>\n",
       "        <td style=\"padding-left: 1em; padding-right: 1em; text-align: center; vertical-align: top\">-122.315</td>\n",
       "        <td style=\"padding-left: 1em; padding-right: 1em; text-align: center; vertical-align: top\">1650</td>\n",
       "    </tr>\n",
       "    <tr>\n",
       "        <td style=\"padding-left: 1em; padding-right: 1em; text-align: center; vertical-align: top\">3</td>\n",
       "        <td style=\"padding-left: 1em; padding-right: 1em; text-align: center; vertical-align: top\">7</td>\n",
       "        <td style=\"padding-left: 1em; padding-right: 1em; text-align: center; vertical-align: top\">1050</td>\n",
       "        <td style=\"padding-left: 1em; padding-right: 1em; text-align: center; vertical-align: top\">730</td>\n",
       "        <td style=\"padding-left: 1em; padding-right: 1em; text-align: center; vertical-align: top\">1960</td>\n",
       "        <td style=\"padding-left: 1em; padding-right: 1em; text-align: center; vertical-align: top\">0</td>\n",
       "        <td style=\"padding-left: 1em; padding-right: 1em; text-align: center; vertical-align: top\">98146</td>\n",
       "        <td style=\"padding-left: 1em; padding-right: 1em; text-align: center; vertical-align: top\">47.5123</td>\n",
       "        <td style=\"padding-left: 1em; padding-right: 1em; text-align: center; vertical-align: top\">-122.337</td>\n",
       "        <td style=\"padding-left: 1em; padding-right: 1em; text-align: center; vertical-align: top\">1780</td>\n",
       "    </tr>\n",
       "    <tr>\n",
       "        <td style=\"padding-left: 1em; padding-right: 1em; text-align: center; vertical-align: top\">3</td>\n",
       "        <td style=\"padding-left: 1em; padding-right: 1em; text-align: center; vertical-align: top\">7</td>\n",
       "        <td style=\"padding-left: 1em; padding-right: 1em; text-align: center; vertical-align: top\">1890</td>\n",
       "        <td style=\"padding-left: 1em; padding-right: 1em; text-align: center; vertical-align: top\">0</td>\n",
       "        <td style=\"padding-left: 1em; padding-right: 1em; text-align: center; vertical-align: top\">2003</td>\n",
       "        <td style=\"padding-left: 1em; padding-right: 1em; text-align: center; vertical-align: top\">0</td>\n",
       "        <td style=\"padding-left: 1em; padding-right: 1em; text-align: center; vertical-align: top\">98038</td>\n",
       "        <td style=\"padding-left: 1em; padding-right: 1em; text-align: center; vertical-align: top\">47.3684</td>\n",
       "        <td style=\"padding-left: 1em; padding-right: 1em; text-align: center; vertical-align: top\">-122.031</td>\n",
       "        <td style=\"padding-left: 1em; padding-right: 1em; text-align: center; vertical-align: top\">2390</td>\n",
       "    </tr>\n",
       "</table>\n",
       "<table frame=\"box\" rules=\"cols\">\n",
       "    <tr>\n",
       "        <th style=\"padding-left: 1em; padding-right: 1em; text-align: center\">sqft_lot15</th>\n",
       "    </tr>\n",
       "    <tr>\n",
       "        <td style=\"padding-left: 1em; padding-right: 1em; text-align: center; vertical-align: top\">5650</td>\n",
       "    </tr>\n",
       "    <tr>\n",
       "        <td style=\"padding-left: 1em; padding-right: 1em; text-align: center; vertical-align: top\">7639</td>\n",
       "    </tr>\n",
       "    <tr>\n",
       "        <td style=\"padding-left: 1em; padding-right: 1em; text-align: center; vertical-align: top\">8062</td>\n",
       "    </tr>\n",
       "    <tr>\n",
       "        <td style=\"padding-left: 1em; padding-right: 1em; text-align: center; vertical-align: top\">5000</td>\n",
       "    </tr>\n",
       "    <tr>\n",
       "        <td style=\"padding-left: 1em; padding-right: 1em; text-align: center; vertical-align: top\">7503</td>\n",
       "    </tr>\n",
       "    <tr>\n",
       "        <td style=\"padding-left: 1em; padding-right: 1em; text-align: center; vertical-align: top\">101930</td>\n",
       "    </tr>\n",
       "    <tr>\n",
       "        <td style=\"padding-left: 1em; padding-right: 1em; text-align: center; vertical-align: top\">6819</td>\n",
       "    </tr>\n",
       "    <tr>\n",
       "        <td style=\"padding-left: 1em; padding-right: 1em; text-align: center; vertical-align: top\">9711</td>\n",
       "    </tr>\n",
       "    <tr>\n",
       "        <td style=\"padding-left: 1em; padding-right: 1em; text-align: center; vertical-align: top\">8113</td>\n",
       "    </tr>\n",
       "    <tr>\n",
       "        <td style=\"padding-left: 1em; padding-right: 1em; text-align: center; vertical-align: top\">7570</td>\n",
       "    </tr>\n",
       "</table>\n",
       "[21613 rows x 21 columns]<br/>Note: Only the head of the SFrame is printed.<br/>You can use print_rows(num_rows=m, num_columns=n) to print more rows and columns.\n",
       "</div>"
      ],
      "text/plain": [
       "Columns:\n",
       "\tid\tint\n",
       "\tdate\tstr\n",
       "\tprice\tfloat\n",
       "\tbedrooms\tint\n",
       "\tbathrooms\tfloat\n",
       "\tsqft_living\tint\n",
       "\tsqft_lot\tint\n",
       "\tfloors\tfloat\n",
       "\twaterfront\tint\n",
       "\tview\tint\n",
       "\tcondition\tint\n",
       "\tgrade\tint\n",
       "\tsqft_above\tint\n",
       "\tsqft_basement\tint\n",
       "\tyr_built\tint\n",
       "\tyr_renovated\tint\n",
       "\tzipcode\tint\n",
       "\tlat\tfloat\n",
       "\tlong\tfloat\n",
       "\tsqft_living15\tint\n",
       "\tsqft_lot15\tint\n",
       "\n",
       "Rows: 21613\n",
       "\n",
       "Data:\n",
       "+------------+-----------------+-----------+----------+-----------+-------------+\n",
       "|     id     |       date      |   price   | bedrooms | bathrooms | sqft_living |\n",
       "+------------+-----------------+-----------+----------+-----------+-------------+\n",
       "| 7129300520 | 20141013T000000 |  221900.0 |    3     |    1.0    |     1180    |\n",
       "| 6414100192 | 20141209T000000 |  538000.0 |    3     |    2.25   |     2570    |\n",
       "| 5631500400 | 20150225T000000 |  180000.0 |    2     |    1.0    |     770     |\n",
       "| 2487200875 | 20141209T000000 |  604000.0 |    4     |    3.0    |     1960    |\n",
       "| 1954400510 | 20150218T000000 |  510000.0 |    3     |    2.0    |     1680    |\n",
       "| 7237550310 | 20140512T000000 | 1225000.0 |    4     |    4.5    |     5420    |\n",
       "| 1321400060 | 20140627T000000 |  257500.0 |    3     |    2.25   |     1715    |\n",
       "| 2008000270 | 20150115T000000 |  291850.0 |    3     |    1.5    |     1060    |\n",
       "| 2414600126 | 20150415T000000 |  229500.0 |    3     |    1.0    |     1780    |\n",
       "| 3793500160 | 20150312T000000 |  323000.0 |    3     |    2.5    |     1890    |\n",
       "+------------+-----------------+-----------+----------+-----------+-------------+\n",
       "+----------+--------+------------+------+-----------+-------+------------+---------------+\n",
       "| sqft_lot | floors | waterfront | view | condition | grade | sqft_above | sqft_basement |\n",
       "+----------+--------+------------+------+-----------+-------+------------+---------------+\n",
       "|   5650   |  1.0   |     0      |  0   |     3     |   7   |    1180    |       0       |\n",
       "|   7242   |  2.0   |     0      |  0   |     3     |   7   |    2170    |      400      |\n",
       "|  10000   |  1.0   |     0      |  0   |     3     |   6   |    770     |       0       |\n",
       "|   5000   |  1.0   |     0      |  0   |     5     |   7   |    1050    |      910      |\n",
       "|   8080   |  1.0   |     0      |  0   |     3     |   8   |    1680    |       0       |\n",
       "|  101930  |  1.0   |     0      |  0   |     3     |   11  |    3890    |      1530     |\n",
       "|   6819   |  2.0   |     0      |  0   |     3     |   7   |    1715    |       0       |\n",
       "|   9711   |  1.0   |     0      |  0   |     3     |   7   |    1060    |       0       |\n",
       "|   7470   |  1.0   |     0      |  0   |     3     |   7   |    1050    |      730      |\n",
       "|   6560   |  2.0   |     0      |  0   |     3     |   7   |    1890    |       0       |\n",
       "+----------+--------+------------+------+-----------+-------+------------+---------------+\n",
       "+----------+--------------+---------+---------+----------+---------------+-----+\n",
       "| yr_built | yr_renovated | zipcode |   lat   |   long   | sqft_living15 | ... |\n",
       "+----------+--------------+---------+---------+----------+---------------+-----+\n",
       "|   1955   |      0       |  98178  | 47.5112 | -122.257 |      1340     | ... |\n",
       "|   1951   |     1991     |  98125  |  47.721 | -122.319 |      1690     | ... |\n",
       "|   1933   |      0       |  98028  | 47.7379 | -122.233 |      2720     | ... |\n",
       "|   1965   |      0       |  98136  | 47.5208 | -122.393 |      1360     | ... |\n",
       "|   1987   |      0       |  98074  | 47.6168 | -122.045 |      1800     | ... |\n",
       "|   2001   |      0       |  98053  | 47.6561 | -122.005 |      4760     | ... |\n",
       "|   1995   |      0       |  98003  | 47.3097 | -122.327 |      2238     | ... |\n",
       "|   1963   |      0       |  98198  | 47.4095 | -122.315 |      1650     | ... |\n",
       "|   1960   |      0       |  98146  | 47.5123 | -122.337 |      1780     | ... |\n",
       "|   2003   |      0       |  98038  | 47.3684 | -122.031 |      2390     | ... |\n",
       "+----------+--------------+---------+---------+----------+---------------+-----+\n",
       "[21613 rows x 21 columns]\n",
       "Note: Only the head of the SFrame is printed.\n",
       "You can use print_rows(num_rows=m, num_columns=n) to print more rows and columns."
      ]
     },
     "execution_count": 3,
     "metadata": {},
     "output_type": "execute_result"
    }
   ],
   "source": [
    "sales_csv"
   ]
  },
  {
   "cell_type": "code",
   "execution_count": 4,
   "metadata": {
    "collapsed": false
   },
   "outputs": [
    {
     "data": {
      "application/javascript": [
       "$(\"head\").append($(\"<link/>\").attr({\n",
       "  rel:  \"stylesheet\",\n",
       "  type: \"text/css\",\n",
       "  href: \"//cdnjs.cloudflare.com/ajax/libs/font-awesome/4.1.0/css/font-awesome.min.css\"\n",
       "}));\n",
       "$(\"head\").append($(\"<link/>\").attr({\n",
       "  rel:  \"stylesheet\",\n",
       "  type: \"text/css\",\n",
       "  href: \"https://static.turi.com/products/graphlab-create/2.1/canvas/css/canvas.css\"\n",
       "}));\n",
       "\n",
       "            (function(){\n",
       "\n",
       "                var e = null;\n",
       "                if (typeof element == 'undefined') {\n",
       "                    var scripts = document.getElementsByTagName('script');\n",
       "                    var thisScriptTag = scripts[scripts.length-1];\n",
       "                    var parentDiv = thisScriptTag.parentNode;\n",
       "                    e = document.createElement('div');\n",
       "                    parentDiv.appendChild(e);\n",
       "                } else {\n",
       "                    e = element[0];\n",
       "                }\n",
       "\n",
       "                if (typeof requirejs !== 'undefined') {\n",
       "                    // disable load timeout; ipython_app.js is large and can take a while to load.\n",
       "                    requirejs.config({waitSeconds: 0});\n",
       "                }\n",
       "\n",
       "                require(['https://static.turi.com/products/graphlab-create/2.1/canvas/js/ipython_app.js'], function(IPythonApp){\n",
       "                    var app = new IPythonApp();\n",
       "                    app.attachView('sframe','Plots', {\"selected_variable\": {\"name\": [\"sales_csv\"], \"descriptives\": {\"rows\": 21613, \"columns\": 21}, \"view_component\": \"Plots\", \"view_file\": \"sframe\", \"view_params\": {\"y\": \"price\", \"x\": \"sqft_living\", \"columns\": [\"id\", \"date\", \"price\", \"bedrooms\", \"bathrooms\", \"sqft_living\", \"sqft_lot\", \"floors\", \"waterfront\", \"view\", \"condition\", \"grade\", \"sqft_above\", \"sqft_basement\", \"yr_built\", \"yr_renovated\", \"zipcode\", \"lat\", \"long\", \"sqft_living15\", \"sqft_lot15\"], \"view\": \"Scatter Plot\"}, \"view_components\": [\"Summary\", \"Table\", \"Bar Chart\", \"BoxWhisker Plot\", \"Line Chart\", \"Scatter Plot\", \"Heat Map\", \"Plots\"], \"type\": \"SFrame\", \"columns\": [{\"dtype\": \"int\", \"name\": \"id\"}, {\"dtype\": \"str\", \"name\": \"date\"}, {\"dtype\": \"float\", \"name\": \"price\"}, {\"dtype\": \"int\", \"name\": \"bedrooms\"}, {\"dtype\": \"float\", \"name\": \"bathrooms\"}, {\"dtype\": \"int\", \"name\": \"sqft_living\"}, {\"dtype\": \"int\", \"name\": \"sqft_lot\"}, {\"dtype\": \"float\", \"name\": \"floors\"}, {\"dtype\": \"int\", \"name\": \"waterfront\"}, {\"dtype\": \"int\", \"name\": \"view\"}, {\"dtype\": \"int\", \"name\": \"condition\"}, {\"dtype\": \"int\", \"name\": \"grade\"}, {\"dtype\": \"int\", \"name\": \"sqft_above\"}, {\"dtype\": \"int\", \"name\": \"sqft_basement\"}, {\"dtype\": \"int\", \"name\": \"yr_built\"}, {\"dtype\": \"int\", \"name\": \"yr_renovated\"}, {\"dtype\": \"int\", \"name\": \"zipcode\"}, {\"dtype\": \"float\", \"name\": \"lat\"}, {\"dtype\": \"float\", \"name\": \"long\"}, {\"dtype\": \"int\", \"name\": \"sqft_living15\"}, {\"dtype\": \"int\", \"name\": \"sqft_lot15\"}], \"column_identifiers\": [\"bathrooms\", \"sqft_living15\", \"sqft_above\", \"grade\", \"yr_built\", \"price\", \"bedrooms\", \"zipcode\", \"long\", \"id\", \"sqft_lot15\", \"sqft_living\", \"floors\", \"sqft_lot\", \"date\", \"waterfront\", \"sqft_basement\", \"yr_renovated\", \"lat\", \"condition\", \"view\"]}, \"complete\": 1, \"ipython\": true, \"progress\": 1.0, \"data\": [[1720, 245000.0], [2678, 546200.0], [1930, 495000.0], [2460, 276000.0], [1140, 474000.0], [3710, 552500.0], [1715, 257500.0], [960, 525000.0], [800, 405000.0], [1150, 213500.0], [2170, 562000.0], [980, 435000.0], [2700, 625000.0], [1494, 650000.0], [960, 255000.0], [1350, 498800.0], [1860, 385000.0], [2040, 471000.0], [1528, 272000.0], [2470, 360000.0], [1650, 233703.0], [2150, 649950.0], [2080, 249900.0], [3120, 953007.0], [2130, 353000.0], [1480, 398000.0], [1580, 729000.0], [1310, 514950.0], [3350, 557500.0], [2110, 280000.0], [1840, 750000.0], [2240, 675000.0], [860, 370000.0], [1030, 525000.0], [2900, 670000.0], [2780, 739000.0], [1010, 350000.0], [1470, 265953.0], [1430, 720001.0], [1810, 362000.0], [1500, 736000.0], [1940, 425590.0], [2600, 665000.0], [2150, 500000.0], [1280, 309000.0], [1606, 417250.0], [1240, 192000.0], [2400, 475000.0], [1358, 311600.0], [2360, 535000.0], [2850, 783500.0], [1550, 425000.0], [3020, 879950.0], [910, 169000.0], [700, 328000.0], [2830, 885000.0], [1830, 295000.0], [1010, 349000.0], [3250, 951000.0], [1760, 690000.0], [1700, 461000.0], [2030, 525000.0], [1870, 592500.0], [2280, 540000.0], [3600, 643500.0], [1270, 290750.0], [1120, 380000.0], [3490, 1295000.0], [2730, 510000.0], [2470, 700000.0], [1640, 402000.0], [2350, 561600.0], [4460, 1059000.0], [1420, 550000.0], [1510, 230000.0], [1810, 358000.0], [420, 229050.0], [2170, 442250.0], [1780, 420000.0], [1870, 619100.0], [1110, 413252.0], [1720, 161700.0], [3310, 785000.0], [1680, 356000.0], [1900, 650000.0], [1980, 329000.0], [1250, 419950.0], [1440, 447000.0], [870, 357000.0], [3200, 399950.0], [3230, 795000.0], [2430, 410000.0], [1740, 382000.0], [1210, 678500.0], [2850, 450000.0], [1410, 760000.0], [2040, 300000.0], [780, 319000.0], [1520, 402000.0], [1550, 425000.0], [2380, 365650.0], [1770, 260000.0], [850, 354000.0], [1410, 211000.0], [1210, 290000.0], [2380, 655500.0], [1490, 438500.0], [1170, 250000.0], [2110, 285000.0], [2070, 653450.0], [2820, 692500.0], [1640, 602000.0], [2080, 538888.0], [2990, 760000.0], [3230, 480000.0], [1890, 388500.0], [3760, 2230000.0], [830, 222000.0], [1500, 240000.0], [2350, 615000.0], [3610, 777000.0], [2290, 660000.0], [1390, 450000.0], [2470, 550000.0], [2380, 812000.0], [5300, 2555000.0], [2100, 445000.0], [2690, 346290.0], [1700, 315000.0], [2100, 380000.0], [1780, 499000.0], [2610, 675000.0], [2390, 330000.0], [3670, 525000.0], [3190, 585000.0], [1320, 199000.0], [1250, 225000.0], [2590, 452000.0], [3280, 810000.0], [2500, 950000.0], [2140, 564000.0], [1620, 345000.0], [850, 389000.0], [740, 213800.0], [1240, 170000.0], [1640, 1155000.0], [1640, 242000.0], [3060, 588000.0], [3070, 880000.0], [1200, 478000.0], [1360, 532170.0], [1040, 314950.0], [930, 700000.0], [1940, 335000.0], [3440, 785000.0], [2420, 600000.0], [2105, 330000.0], [1310, 437000.0], [1970, 606000.0], [1930, 570000.0], [2020, 490000.0], [1610, 630000.0], [1620, 481000.0], [1520, 425000.0], [3130, 866059.0], [1060, 475000.0], [1210, 430000.0], [1310, 235000.0], [1230, 380000.0], [2500, 300000.0], [1940, 550000.0], [3500, 799000.0], [4320, 1040000.0], [1020, 290000.0], [1970, 289000.0], [2330, 645000.0], [2120, 550000.0], [3370, 830000.0], [1950, 269950.0], [1350, 330000.0], [2050, 585000.0], [2340, 645000.0], [2170, 359800.0], [1060, 206000.0], [2060, 340000.0], [2040, 575000.0], [2060, 558000.0], [1480, 280000.0], [2520, 598500.0], [1760, 336500.0], [2430, 510000.0], [2990, 500000.0], [1830, 518000.0], [1840, 778000.0], [3190, 659000.0], [1380, 253750.0], [3040, 538900.0], [2690, 575000.0], [1810, 420000.0], [2090, 536650.0], [2620, 725000.0], [1590, 280000.0], [1340, 335000.0], [1130, 220000.0], [1980, 317950.0], [2320, 410000.0], [940, 229000.0], [1010, 425000.0], [1210, 343000.0], [2130, 575000.0], [2740, 648000.0], [1540, 659000.0], [1560, 525000.0], [2120, 332000.0], [1410, 275000.0], [1700, 290000.0], [800, 180000.0], [2840, 372000.0], [3720, 980000.0], [1490, 234000.0], [2500, 525000.0], [2414, 292000.0], [2330, 527000.0], [4910, 1675000.0], [1890, 940000.0], [3560, 922755.0], [2960, 750000.0], [1690, 419990.0], [2100, 440000.0], [2120, 475000.0], [3100, 905000.0], [2320, 700000.0], [5550, 2350000.0], [1000, 213000.0], [1450, 525000.0], [1530, 235000.0], [1510, 322000.0], [1440, 500000.0], [2550, 587000.0], [3620, 1575000.0], [1852, 298000.0], [1350, 427500.0], [1490, 700000.0], [1920, 625000.0], [720, 240000.0], [2040, 675000.0], [2160, 650000.0], [1720, 389700.0], [2450, 735000.0], [1540, 490000.0], [710, 320000.0], [2620, 277500.0], [2665, 340000.0], [2360, 702500.0], [2410, 432000.0], [3390, 439900.0], [2270, 615000.0], [700, 119900.0], [2460, 675000.0], [2540, 374950.0], [1090, 292000.0], [5230, 1987500.0], [4420, 1325000.0], [1710, 525000.0], [1790, 397000.0], [1360, 197000.0], [1110, 130000.0], [2020, 300000.0], [1870, 325000.0], [901, 435000.0], [3350, 720500.0], [1320, 259000.0], [2650, 660000.0], [1270, 435010.0], [1080, 331000.0], [2810, 739000.0], [1120, 100000.0], [1280, 539000.0], [2730, 350000.0], [600, 110000.0], [1970, 274900.0], [2370, 746000.0], [2060, 585000.0], [2060, 440000.0], [1910, 496600.0], [1700, 619500.0], [2500, 467000.0], [3900, 850000.0], [800, 191000.0], [1980, 295000.0], [1540, 275000.0], [2160, 580000.0], [1750, 499000.0], [1640, 311000.0], [1730, 425000.0], [3360, 879000.0], [3460, 730000.0], [1450, 245000.0], [1610, 262500.0], [4180, 1020000.0], [3160, 795000.0], [1900, 315000.0], [1010, 356999.0], [1410, 404000.0], [980, 390000.0], [1260, 523000.0], [3070, 340500.0], [1650, 453000.0], [1300, 492000.0], [3320, 665000.0], [1780, 435000.0], [1580, 485000.0], [3390, 780000.0], [2160, 355000.0], [2540, 630000.0], [1440, 253500.0], [2400, 435000.0], [1070, 462550.0], [1860, 280000.0], [1010, 215000.0], [1230, 220000.0], [2130, 233000.0], [2090, 489900.0], [2040, 730000.0], [1580, 495000.0], [1160, 370000.0], [3078, 459950.0], [1960, 445000.0], [1180, 311000.0], [4490, 1715000.0], [4010, 625000.0], [1320, 195000.0], [2320, 425000.0], [1610, 375000.0], [2490, 940000.0], [1570, 315000.0], [900, 350000.0], [2110, 324500.0], [2330, 1300000.0], [2910, 718500.0], [980, 134000.0], [890, 475000.0], [1360, 399500.0], [3030, 367950.0], [5584, 1680000.0], [2440, 475000.0], [1360, 150000.0], [1690, 420000.0], [2010, 260000.0], [2500, 387000.0], [2110, 380000.0], [1340, 225000.0], [1900, 315000.0], [3520, 1110000.0], [1430, 350000.0], [3990, 650000.0], [2540, 630000.0], [4370, 897500.0], [3527, 340000.0], [1060, 182000.0], [1640, 463000.0], [1800, 610000.0], [1310, 510000.0], [3000, 688000.0], [3360, 829995.0], [2100, 640000.0], [2180, 340000.0], [1340, 124740.0], [2140, 640000.0], [1970, 454000.0], [1430, 280000.0], [860, 198000.0], [3830, 480000.0], [2070, 559000.0], [1020, 505000.0], [900, 179500.0], [1680, 258000.0], [1780, 580000.0], [1490, 411000.0], [1230, 387000.0], [1720, 206325.0], [1700, 189000.0], [2450, 299000.0], [2590, 519995.0], [640, 279200.0], [1580, 402000.0], [2270, 420000.0], [2130, 370000.0], [2130, 395000.0], [4160, 1850000.0], [2150, 871000.0], [1460, 300000.0], [1420, 310000.0], [1420, 550000.0], [1040, 210000.0], [1720, 514000.0], [1370, 797000.0], [2000, 320000.0], [1760, 690000.0], [2550, 703770.0], [1560, 539950.0], [1780, 442573.0], [2330, 372000.0], [2340, 459900.0], [1020, 279000.0], [1510, 650000.0], [1160, 440000.0], [1460, 400000.0], [1930, 364950.0], [1980, 428000.0], [2390, 640000.0], [1270, 435000.0], [1320, 455000.0], [2880, 780000.0], [2080, 365000.0], [2910, 570000.0], [1970, 402000.0], [3845, 1750000.0], [1180, 343000.0], [1350, 190000.0], [2350, 270000.0], [2490, 1081000.0], [2040, 443500.0], [2008, 460000.0], [3310, 770000.0], [2480, 585000.0], [1860, 350000.0], [2350, 1300000.0], [2180, 720000.0], [1190, 311000.0], [2290, 328500.0], [3000, 666000.0], [1280, 545000.0], [2090, 210000.0], [2780, 563500.0], [2940, 640000.0], [1580, 480000.0], [3530, 487500.0], [1580, 400000.0], [1230, 278000.0], [2540, 775000.0], [1060, 345000.0], [3090, 855000.0], [1920, 625000.0], [2170, 353000.0], [4270, 1610000.0], [2940, 464500.0], [1260, 505000.0], [620, 325000.0], [1240, 530000.0], [3970, 1450000.0], [3720, 1520000.0], [2880, 1538000.0], [1970, 540000.0], [2500, 368000.0], [3200, 618000.0], [2400, 344000.0], [1100, 421000.0], [2780, 475000.0], [2390, 589000.0], [1720, 498000.0], [1600, 510000.0], [1170, 592500.0], [1130, 631500.0], [1240, 221000.0], [3695, 994900.0], [1850, 330000.0], [1470, 426000.0], [1970, 291700.0], [2460, 818000.0], [2520, 387846.0], [1530, 250000.0], [2370, 383000.0], [1930, 325000.0], [1430, 380000.0], [930, 445000.0], [1340, 370350.0], [1060, 420000.0], [630, 315000.0], [1552, 264000.0], [1040, 382500.0], [1910, 250000.0], [3300, 725000.0], [1810, 507000.0], [2370, 545000.0], [1590, 484950.0], [1460, 235000.0], [2830, 710000.0], [3860, 903000.0], [1580, 259000.0], [1960, 575000.0], [3690, 865000.0], [1620, 415000.0], [1080, 275000.0], [1130, 322500.0], [1540, 430000.0], [1230, 150000.0], [1970, 395000.0], [3320, 1699990.0], [1410, 367500.0], [3420, 855000.0], [3020, 715000.0], [2030, 295000.0], [870, 271310.0], [1830, 250000.0], [1510, 468000.0], [1260, 445000.0], [1230, 273000.0], [4250, 2450000.0], [3070, 1225000.0], [2420, 282000.0], [910, 285000.0], [3490, 449950.0], [2060, 343888.0], [2720, 685000.0], [1350, 397500.0], [3690, 655000.0], [1600, 350000.0], [3100, 795000.0], [1660, 605000.0], [2280, 625000.0], [1550, 390000.0], [1910, 412450.0], [1020, 680000.0], [2200, 322000.0], [1670, 325000.0], [5010, 1468000.0], [3440, 554000.0], [2080, 389000.0], [1150, 215000.0], [2070, 501000.0], [3050, 585000.0], [840, 315000.0], [710, 153000.0], [1040, 204000.0], [2100, 268500.0], [1830, 452000.0], [1830, 284000.0], [1880, 435000.0], [1670, 290700.0], [1880, 466000.0], [1680, 555000.0], [2090, 562100.0], [1100, 306500.0], [1160, 315000.0], [1750, 510000.0], [1460, 310000.0], [2080, 424240.0], [2310, 336950.0], [4490, 890000.0], [2630, 738000.0], [1660, 560000.0], [1940, 725000.0], [2030, 474950.0], [900, 400000.0], [1088, 238000.0], [1290, 232000.0], [1450, 360000.0], [2750, 750000.0], [800, 353500.0], [2850, 540000.0], [2620, 672000.0], [2570, 710000.0], [2030, 572500.0], [1490, 604000.0], [1100, 286000.0], [1620, 249950.0], [1550, 242500.0], [2890, 508000.0], [1160, 275000.0], [1670, 600000.0], [3110, 1500000.0], [2360, 300000.0], [2550, 537500.0], [2283, 389950.0], [3090, 1110000.0], [5370, 3000000.0], [2260, 467500.0], [1651, 285000.0], [3030, 880000.0], [720, 295000.0], [1690, 289000.0], [1200, 486700.0], [1280, 227000.0], [1852, 298900.0], [840, 96500.0], [2130, 620000.0], [1870, 475000.0], [1760, 247500.0], [2060, 685000.0], [720, 330000.0], [2640, 489950.0], [962, 390000.0], [2200, 325000.0], [2300, 435000.0], [1120, 225000.0], [1810, 300000.0], [2730, 310000.0], [2910, 410000.0], [1000, 265000.0], [2780, 870000.0], [1160, 168000.0], [3430, 2205000.0], [1120, 260000.0], [1450, 435500.0], [1330, 374500.0], [1730, 625000.0], [7390, 5300000.0], [3620, 825000.0], [1610, 268000.0], [2460, 445000.0], [1400, 322000.0], [2440, 489990.0], [2420, 597400.0], [3753, 363000.0], [3800, 575000.0], [1122, 185000.0], [2820, 450000.0], [2040, 552500.0], [1880, 405000.0], [2370, 348000.0], [2770, 1080000.0], [2850, 993000.0], [990, 285000.0], [990, 325000.0], [2790, 1045000.0], [1660, 559950.0], [1900, 1042500.0], [2200, 216600.0], [960, 477000.0], [1540, 370000.0], [2800, 665000.0], [1580, 253000.0], [3530, 963000.0], [2780, 660000.0], [2410, 446800.0], [3220, 384000.0], [2340, 640000.0], [2050, 314500.0], [2830, 782000.0], [900, 550000.0], [5840, 2200000.0], [2630, 435000.0], [1660, 729500.0], [1400, 431750.0], [1240, 900000.0], [1710, 332544.0], [1930, 319000.0], [1040, 341000.0], [710, 299000.0], [2000, 585000.0], [2020, 521000.0], [2040, 355000.0], [2150, 597500.0], [1450, 440000.0], [860, 330000.0], [2090, 581000.0], [1450, 400000.0], [3600, 1350000.0], [3250, 699188.0], [1180, 338900.0], [1900, 557500.0], [1910, 460000.0], [2380, 650000.0], [1310, 307000.0], [1260, 665000.0], [1790, 541000.0], [2320, 307000.0], [930, 190000.0], [2090, 499000.0], [2020, 245000.0], [1700, 435000.0], [3770, 940000.0], [1175, 342000.0], [960, 232000.0], [4350, 472000.0], [1850, 1375000.0], [3940, 857326.0], [1180, 187500.0], [4370, 1145000.0], [720, 285000.0], [2580, 799000.0], [2100, 346000.0], [1320, 345000.0], [2290, 347500.0], [1460, 135000.0], [2100, 207000.0], [1580, 558000.0], [1360, 515000.0], [4080, 825000.0], [2140, 210000.0], [1600, 442500.0], [1160, 322500.0], [1330, 375000.0], [2240, 530000.0], [2920, 1650000.0], [2110, 289000.0], [3230, 572115.0], [1980, 912000.0], [2210, 685000.0], [1900, 360000.0], [2168, 575000.0], [1590, 280000.0], [3430, 780000.0], [900, 375000.0], [1490, 327000.0], [2550, 699000.0], [1340, 223000.0], [1380, 475000.0], [2400, 585000.0], [1820, 318400.0], [2640, 1220000.0], [4500, 750000.0], [2340, 439990.0], [2550, 328950.0], [1080, 525000.0], [660, 227450.0], [3030, 799950.0], [1040, 330000.0], [1500, 329500.0], [2160, 453000.0], [1880, 240000.0], [1680, 375000.0], [1860, 410000.0], [1590, 720000.0], [3530, 930000.0], [930, 275000.0], [1320, 209000.0], [1920, 210000.0], [3140, 585000.0], [1190, 417000.0], [1010, 283700.0], [1190, 350000.0], [2009, 279000.0], [2460, 930000.0], [2130, 880000.0], [1510, 313000.0], [1960, 310000.0], [2100, 530000.0], [2870, 720000.0], [2210, 360000.0], [3250, 519000.0], [1890, 275000.0], [1180, 289900.0], [2400, 495000.0], [2680, 779950.0], [1390, 230000.0], [2820, 428900.0], [3460, 460000.0], [780, 146000.0], [1150, 329999.0], [2230, 305000.0], [1120, 249950.0], [1220, 370000.0], [2210, 507000.0], [1740, 205000.0], [2250, 474950.0], [2200, 268450.0], [1910, 570000.0], [3210, 825000.0], [1530, 575000.0], [1410, 335000.0], [1400, 330000.0], [2340, 510000.0], [1660, 410000.0], [1640, 365000.0], [1730, 319000.0], [1840, 297000.0], [3090, 1112750.0], [1300, 287000.0], [1400, 295000.0], [1600, 495000.0], [2050, 639888.0], [2240, 550000.0], [1910, 607000.0], [5960, 1140000.0], [1510, 406500.0], [3430, 1010000.0], [1270, 403000.0], [4860, 2250000.0], [1420, 224097.0], [900, 395000.0], [2450, 480000.0], [3070, 575000.0], [1470, 245000.0], [1090, 240000.0], [2180, 363000.0], [1640, 319000.0], [1470, 551000.0], [1650, 385000.0], [830, 271115.0], [2470, 635000.0], [2240, 905000.0], [2510, 535000.0], [2540, 652500.0], [6030, 1825000.0], [2310, 785000.0], [1520, 365000.0], [2100, 470000.0], [3830, 1700000.0], [2480, 729000.0], [1810, 520000.0], [3990, 649000.0], [4180, 1886700.0], [988, 295000.0], [1540, 216650.0], [1270, 218250.0], [1420, 235000.0], [2040, 355000.0], [1260, 349500.0], [2470, 660000.0], [1870, 460000.0], [3190, 1030000.0], [1770, 455000.0], [2360, 435000.0], [1010, 441500.0], [3010, 831548.0], [2900, 696000.0], [2120, 278100.0], [3660, 730000.0], [2180, 235000.0], [2780, 645000.0], [2090, 659000.0], [2290, 572500.0], [1680, 629950.0], [1270, 346000.0], [3530, 1610000.0], [940, 416000.0], [1080, 329500.0], [2830, 744000.0], [1150, 252000.0], [1040, 375000.0], [1570, 228900.0], [2900, 799950.0], [1070, 299000.0], [3090, 540500.0], [1560, 225000.0], [2040, 355000.0], [1160, 487000.0], [1180, 372500.0], [1360, 499950.0], [2690, 555000.0], [1620, 428750.0], [2850, 670000.0], [1500, 290000.0], [1600, 308550.0], [1070, 219950.0], [1610, 275000.0], [1800, 533000.0], [1330, 539950.0], [1900, 535800.0], [2210, 330000.0], [2130, 320000.0], [1210, 235000.0], [2400, 327000.0], [2160, 429000.0], [1320, 350000.0], [1690, 277500.0], [1440, 252000.0], [2040, 319900.0], [1420, 535000.0], [1370, 390000.0], [1430, 375000.0], [1180, 630500.0], [1600, 440500.0], [3550, 450000.0], [2250, 688000.0], [2680, 460000.0], [3650, 1575000.0], [1770, 415000.0], [2320, 655000.0], [1560, 273500.0], [1440, 487000.0], [2590, 925000.0], [960, 305000.0], [1900, 327000.0], [2030, 335000.0], [3130, 320000.0], [2290, 620000.0], [2220, 370000.0], [2380, 330000.0], [2760, 799500.0], [1610, 260000.0], [1300, 321000.0], [3217, 458000.0], [1740, 577000.0], [1280, 687500.0], [1300, 273500.0], [2550, 345000.0], [3090, 1220000.0], [2720, 846000.0], [1420, 192500.0], [760, 110000.0], [2950, 835000.0], [1820, 229000.0], [2990, 1055000.0], [3160, 980000.0], [3470, 599000.0], [2650, 559950.0], [2310, 640000.0], [1010, 202000.0], [1080, 219000.0], [1010, 250000.0], [2330, 650000.0], [2190, 391000.0], [1490, 320000.0], [2670, 749000.0], [1630, 360400.0], [3810, 760000.0], [1220, 405000.0], [1510, 624000.0], [1980, 796000.0], [2890, 300000.0], [1490, 260250.0], [2560, 642000.0], [2070, 645000.0], [1050, 208000.0], [3220, 690000.0], [2440, 710000.0], [1900, 407500.0], [810, 450000.0], [2420, 550000.0], [2410, 600000.0], [1140, 399950.0], [2340, 780000.0], [2240, 410000.0], [2790, 685100.0], [4390, 1230000.0], [1370, 359000.0], [1550, 725000.0], [3450, 1295000.0], [1460, 427000.0], [1820, 425000.0], [1560, 299900.0], [1660, 305000.0], [2440, 485000.0], [2480, 420000.0], [1370, 385000.0], [920, 600000.0], [2210, 314000.0], [2440, 700000.0], [1090, 152000.0], [1740, 550000.0], [2760, 765000.0], [1880, 538000.0], [2150, 419000.0], [2400, 839000.0], [2680, 449990.0], [1820, 320000.0], [1980, 549000.0], [2620, 355000.0], [1330, 601000.0], [2430, 402000.0], [1850, 474950.0], [2950, 530000.0], [2250, 499000.0], [2130, 392000.0], [1890, 535000.0], [1340, 192000.0], [1250, 440000.0], [2600, 571000.0], [1500, 392000.0], [1590, 305000.0], [2430, 990000.0], [2730, 678000.0], [2080, 940000.0], [3430, 524500.0], [880, 460000.0], [1400, 235000.0], [1750, 445000.0], [1790, 263000.0], [1660, 385000.0], [1130, 420000.0], [2650, 790000.0], [1400, 265000.0], [2270, 526750.0], [1010, 255000.0], [1300, 552500.0], [2830, 779000.0], [1690, 460000.0], [3120, 615000.0], [2710, 925000.0], [3180, 1130000.0], [3110, 635000.0], [2270, 479000.0], [3910, 489000.0], [900, 470000.0], [2393, 400000.0], [2320, 250000.0], [1080, 140000.0], [1220, 315000.0], [1640, 522500.0], [2780, 645000.0], [2480, 583800.0], [2800, 563500.0], [2010, 316000.0], [1730, 329780.0], [1430, 520000.0], [1030, 189950.0], [1270, 510000.0]], \"columns\": [{\"dtype\": \"int\", \"name\": \"id\"}, {\"dtype\": \"str\", \"name\": \"date\"}, {\"dtype\": \"float\", \"name\": \"price\"}, {\"dtype\": \"int\", \"name\": \"bedrooms\"}, {\"dtype\": \"float\", \"name\": \"bathrooms\"}, {\"dtype\": \"int\", \"name\": \"sqft_living\"}, {\"dtype\": \"int\", \"name\": \"sqft_lot\"}, {\"dtype\": \"float\", \"name\": \"floors\"}, {\"dtype\": \"int\", \"name\": \"waterfront\"}, {\"dtype\": \"int\", \"name\": \"view\"}, {\"dtype\": \"int\", \"name\": \"condition\"}, {\"dtype\": \"int\", \"name\": \"grade\"}, {\"dtype\": \"int\", \"name\": \"sqft_above\"}, {\"dtype\": \"int\", \"name\": \"sqft_basement\"}, {\"dtype\": \"int\", \"name\": \"yr_built\"}, {\"dtype\": \"int\", \"name\": \"yr_renovated\"}, {\"dtype\": \"int\", \"name\": \"zipcode\"}, {\"dtype\": \"float\", \"name\": \"lat\"}, {\"dtype\": \"float\", \"name\": \"long\"}, {\"dtype\": \"int\", \"name\": \"sqft_living15\"}, {\"dtype\": \"int\", \"name\": \"sqft_lot15\"}]}, e);\n",
       "                });\n",
       "            })();\n",
       "        "
      ]
     },
     "metadata": {},
     "output_type": "display_data"
    }
   ],
   "source": [
    "graphlab.canvas.set_target('ipynb')\n",
    "sales_csv.show(view=\"Scatter Plot\", x=\"sqft_living\", y=\"price\")"
   ]
  },
  {
   "cell_type": "code",
   "execution_count": 5,
   "metadata": {
    "collapsed": true
   },
   "outputs": [],
   "source": [
    "sqrt_model=graphlab.linear_regression.create(sales_csv, target='price', features=['sqft_living'],validation_set=None,verbose=False)"
   ]
  },
  {
   "cell_type": "code",
   "execution_count": 6,
   "metadata": {
    "collapsed": true
   },
   "outputs": [],
   "source": [
    "import matplotlib.pyplot as plt"
   ]
  },
  {
   "cell_type": "code",
   "execution_count": 9,
   "metadata": {
    "collapsed": false
   },
   "outputs": [
    {
     "data": {
      "text/plain": [
       "[<matplotlib.lines.Line2D at 0x1f695438>,\n",
       " <matplotlib.lines.Line2D at 0x1f6954e0>]"
      ]
     },
     "execution_count": 9,
     "metadata": {},
     "output_type": "execute_result"
    }
   ],
   "source": [
    "plt.plot(sales_csv['sqft_living'],sales_csv['price'],'.',\n",
    "        sales_csv['sqft_living'],sqrt_model.predict(sales_csv),'-')"
   ]
  },
  {
   "cell_type": "code",
   "execution_count": 11,
   "metadata": {
    "collapsed": false
   },
   "outputs": [
    {
     "data": {
      "text/html": [
       "<div style=\"max-height:1000px;max-width:1500px;overflow:auto;\"><table frame=\"box\" rules=\"cols\">\n",
       "    <tr>\n",
       "        <th style=\"padding-left: 1em; padding-right: 1em; text-align: center\">name</th>\n",
       "        <th style=\"padding-left: 1em; padding-right: 1em; text-align: center\">index</th>\n",
       "        <th style=\"padding-left: 1em; padding-right: 1em; text-align: center\">value</th>\n",
       "        <th style=\"padding-left: 1em; padding-right: 1em; text-align: center\">stderr</th>\n",
       "    </tr>\n",
       "    <tr>\n",
       "        <td style=\"padding-left: 1em; padding-right: 1em; text-align: center; vertical-align: top\">(intercept)</td>\n",
       "        <td style=\"padding-left: 1em; padding-right: 1em; text-align: center; vertical-align: top\">None</td>\n",
       "        <td style=\"padding-left: 1em; padding-right: 1em; text-align: center; vertical-align: top\">-43579.0880188</td>\n",
       "        <td style=\"padding-left: 1em; padding-right: 1em; text-align: center; vertical-align: top\">4402.68969032</td>\n",
       "    </tr>\n",
       "    <tr>\n",
       "        <td style=\"padding-left: 1em; padding-right: 1em; text-align: center; vertical-align: top\">sqft_living</td>\n",
       "        <td style=\"padding-left: 1em; padding-right: 1em; text-align: center; vertical-align: top\">None</td>\n",
       "        <td style=\"padding-left: 1em; padding-right: 1em; text-align: center; vertical-align: top\">280.62277215</td>\n",
       "        <td style=\"padding-left: 1em; padding-right: 1em; text-align: center; vertical-align: top\">1.93639855201</td>\n",
       "    </tr>\n",
       "</table>\n",
       "[2 rows x 4 columns]<br/>\n",
       "</div>"
      ],
      "text/plain": [
       "Columns:\n",
       "\tname\tstr\n",
       "\tindex\tstr\n",
       "\tvalue\tfloat\n",
       "\tstderr\tfloat\n",
       "\n",
       "Rows: 2\n",
       "\n",
       "Data:\n",
       "+-------------+-------+----------------+---------------+\n",
       "|     name    | index |     value      |     stderr    |\n",
       "+-------------+-------+----------------+---------------+\n",
       "| (intercept) |  None | -43579.0880188 | 4402.68969032 |\n",
       "| sqft_living |  None |  280.62277215  | 1.93639855201 |\n",
       "+-------------+-------+----------------+---------------+\n",
       "[2 rows x 4 columns]"
      ]
     },
     "execution_count": 11,
     "metadata": {},
     "output_type": "execute_result"
    }
   ],
   "source": [
    "sqrt_model.get('coefficients')"
   ]
  },
  {
   "cell_type": "code",
   "execution_count": 12,
   "metadata": {
    "collapsed": true
   },
   "outputs": [],
   "source": [
    "ytemp=2650*280.62277215-43579.0880188"
   ]
  },
  {
   "cell_type": "code",
   "execution_count": 13,
   "metadata": {
    "collapsed": false
   },
   "outputs": [
    {
     "data": {
      "text/plain": [
       "700071.2581787"
      ]
     },
     "execution_count": 13,
     "metadata": {},
     "output_type": "execute_result"
    }
   ],
   "source": [
    "ytemp"
   ]
  },
  {
   "cell_type": "code",
   "execution_count": 14,
   "metadata": {
    "collapsed": true
   },
   "outputs": [],
   "source": [
    "sales = graphlab.SFrame('kc_house_data.gl/')"
   ]
  },
  {
   "cell_type": "code",
   "execution_count": 15,
   "metadata": {
    "collapsed": true
   },
   "outputs": [],
   "source": [
    "train_data,test_data = sales.random_split(.8,seed=0)"
   ]
  },
  {
   "cell_type": "code",
   "execution_count": 16,
   "metadata": {
    "collapsed": true
   },
   "outputs": [],
   "source": [
    "my_model = graphlab.linear_regression.create(train_data, target='price', features=['sqft_living'],validation_set=None,verbose=False)\n"
   ]
  },
  {
   "cell_type": "code",
   "execution_count": 17,
   "metadata": {
    "collapsed": false
   },
   "outputs": [
    {
     "data": {
      "text/html": [
       "<div style=\"max-height:1000px;max-width:1500px;overflow:auto;\"><table frame=\"box\" rules=\"cols\">\n",
       "    <tr>\n",
       "        <th style=\"padding-left: 1em; padding-right: 1em; text-align: center\">name</th>\n",
       "        <th style=\"padding-left: 1em; padding-right: 1em; text-align: center\">index</th>\n",
       "        <th style=\"padding-left: 1em; padding-right: 1em; text-align: center\">value</th>\n",
       "        <th style=\"padding-left: 1em; padding-right: 1em; text-align: center\">stderr</th>\n",
       "    </tr>\n",
       "    <tr>\n",
       "        <td style=\"padding-left: 1em; padding-right: 1em; text-align: center; vertical-align: top\">(intercept)</td>\n",
       "        <td style=\"padding-left: 1em; padding-right: 1em; text-align: center; vertical-align: top\">None</td>\n",
       "        <td style=\"padding-left: 1em; padding-right: 1em; text-align: center; vertical-align: top\">-47114.0206702</td>\n",
       "        <td style=\"padding-left: 1em; padding-right: 1em; text-align: center; vertical-align: top\">4923.34437753</td>\n",
       "    </tr>\n",
       "    <tr>\n",
       "        <td style=\"padding-left: 1em; padding-right: 1em; text-align: center; vertical-align: top\">sqft_living</td>\n",
       "        <td style=\"padding-left: 1em; padding-right: 1em; text-align: center; vertical-align: top\">None</td>\n",
       "        <td style=\"padding-left: 1em; padding-right: 1em; text-align: center; vertical-align: top\">281.957850166</td>\n",
       "        <td style=\"padding-left: 1em; padding-right: 1em; text-align: center; vertical-align: top\">2.16405465323</td>\n",
       "    </tr>\n",
       "</table>\n",
       "[2 rows x 4 columns]<br/>\n",
       "</div>"
      ],
      "text/plain": [
       "Columns:\n",
       "\tname\tstr\n",
       "\tindex\tstr\n",
       "\tvalue\tfloat\n",
       "\tstderr\tfloat\n",
       "\n",
       "Rows: 2\n",
       "\n",
       "Data:\n",
       "+-------------+-------+----------------+---------------+\n",
       "|     name    | index |     value      |     stderr    |\n",
       "+-------------+-------+----------------+---------------+\n",
       "| (intercept) |  None | -47114.0206702 | 4923.34437753 |\n",
       "| sqft_living |  None | 281.957850166  | 2.16405465323 |\n",
       "+-------------+-------+----------------+---------------+\n",
       "[2 rows x 4 columns]"
      ]
     },
     "execution_count": 17,
     "metadata": {},
     "output_type": "execute_result"
    }
   ],
   "source": [
    "my_model.get('coefficients')"
   ]
  },
  {
   "cell_type": "code",
   "execution_count": 18,
   "metadata": {
    "collapsed": false
   },
   "outputs": [
    {
     "data": {
      "text/plain": [
       "{'max_error': 4143550.8825285938, 'rmse': 255191.02870527358}"
      ]
     },
     "execution_count": 18,
     "metadata": {},
     "output_type": "execute_result"
    }
   ],
   "source": [
    "my_model.evaluate(test_data)"
   ]
  },
  {
   "cell_type": "code",
   "execution_count": 19,
   "metadata": {
    "collapsed": false
   },
   "outputs": [
    {
     "data": {
      "text/plain": [
       "17384"
      ]
     },
     "execution_count": 19,
     "metadata": {},
     "output_type": "execute_result"
    }
   ],
   "source": [
    "len(train_data)"
   ]
  },
  {
   "cell_type": "code",
   "execution_count": 20,
   "metadata": {
    "collapsed": false
   },
   "outputs": [
    {
     "data": {
      "text/plain": [
       "4436240843.012476"
      ]
     },
     "execution_count": 20,
     "metadata": {},
     "output_type": "execute_result"
    }
   ],
   "source": [
    "255191.02870527358*17384"
   ]
  },
  {
   "cell_type": "code",
   "execution_count": 21,
   "metadata": {
    "collapsed": false
   },
   "outputs": [
    {
     "data": {
      "text/plain": [
       "1201918356336392.0"
      ]
     },
     "execution_count": 21,
     "metadata": {},
     "output_type": "execute_result"
    }
   ],
   "source": [
    "my_model.get('training_loss')"
   ]
  },
  {
   "cell_type": "code",
   "execution_count": 22,
   "metadata": {
    "collapsed": false
   },
   "outputs": [
    {
     "data": {
      "text/plain": [
       "3004.399487978326"
      ]
     },
     "execution_count": 22,
     "metadata": {},
     "output_type": "execute_result"
    }
   ],
   "source": [
    "(800000+47114.0206702)/281.957850166"
   ]
  },
  {
   "cell_type": "code",
   "execution_count": 23,
   "metadata": {
    "collapsed": true
   },
   "outputs": [],
   "source": [
    "my_model2 = graphlab.linear_regression.create(train_data, target='price', features=['bedrooms'],validation_set=None,verbose=False)"
   ]
  },
  {
   "cell_type": "code",
   "execution_count": 24,
   "metadata": {
    "collapsed": false
   },
   "outputs": [
    {
     "data": {
      "text/plain": [
       "2143244494243470.5"
      ]
     },
     "execution_count": 24,
     "metadata": {},
     "output_type": "execute_result"
    }
   ],
   "source": [
    "my_model2.get('training_loss')"
   ]
  },
  {
   "cell_type": "code",
   "execution_count": null,
   "metadata": {
    "collapsed": true
   },
   "outputs": [],
   "source": []
  }
 ],
 "metadata": {
  "kernelspec": {
   "display_name": "Python 2",
   "language": "python",
   "name": "python2"
  },
  "language_info": {
   "codemirror_mode": {
    "name": "ipython",
    "version": 2
   },
   "file_extension": ".py",
   "mimetype": "text/x-python",
   "name": "python",
   "nbconvert_exporter": "python",
   "pygments_lexer": "ipython2",
   "version": "2.7.13"
  }
 },
 "nbformat": 4,
 "nbformat_minor": 0
}
